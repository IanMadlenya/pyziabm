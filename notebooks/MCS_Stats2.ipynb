{
 "cells": [
  {
   "cell_type": "code",
   "execution_count": 1,
   "metadata": {
    "collapsed": true
   },
   "outputs": [],
   "source": [
    "import pandas as pd\n",
    "import numpy as np\n",
    "\n",
    "%matplotlib inline\n",
    "import matplotlib.pyplot as plt\n",
    "from matplotlib import rc, rcParams\n",
    "rc('font', **{'family': 'serif', 'serif': ['Cambria', 'Times New Roman']})"
   ]
  },
  {
   "cell_type": "code",
   "execution_count": 2,
   "metadata": {},
   "outputs": [],
   "source": [
    "%load_ext watermark"
   ]
  },
  {
   "cell_type": "code",
   "execution_count": 3,
   "metadata": {},
   "outputs": [
    {
     "name": "stdout",
     "output_type": "stream",
     "text": [
      "CPython 3.5.2\n",
      "IPython 4.0.3\n",
      "\n",
      "pandas 0.17.1\n",
      "numpy 1.10.4\n",
      "matplotlib 1.5.1\n",
      "\n",
      "compiler   : MSC v.1900 64 bit (AMD64)\n",
      "system     : Windows\n",
      "release    : 10\n",
      "machine    : AMD64\n",
      "processor  : Intel64 Family 6 Model 42 Stepping 7, GenuineIntel\n",
      "CPU cores  : 8\n",
      "interpreter: 64bit\n",
      "host name  : user-PC\n"
     ]
    }
   ],
   "source": [
    "%watermark -h -v -m -p pandas,numpy,matplotlib"
   ]
  },
  {
   "cell_type": "code",
   "execution_count": 4,
   "metadata": {
    "collapsed": true
   },
   "outputs": [],
   "source": [
    "pd.options.display.max_rows = 8"
   ]
  },
  {
   "cell_type": "code",
   "execution_count": 5,
   "metadata": {
    "collapsed": true
   },
   "outputs": [],
   "source": [
    "h5root = '..\\\\h5 files\\\\'\n",
    "chartdir = 'C:\\\\Users\\\\user\\\\Documents\\\\Agent-Based Models\\\\Charts\\\\'"
   ]
  },
  {
   "cell_type": "code",
   "execution_count": 132,
   "metadata": {
    "collapsed": true
   },
   "outputs": [],
   "source": [
    "h5subdir = 'TempTests\\\\'\n",
    "h5file = 'smallcap_%d.h5' % 10"
   ]
  },
  {
   "cell_type": "code",
   "execution_count": 133,
   "metadata": {},
   "outputs": [],
   "source": [
    "h5in = '%s%s%s' % (h5root, h5subdir, h5file)"
   ]
  },
  {
   "cell_type": "code",
   "execution_count": 134,
   "metadata": {},
   "outputs": [],
   "source": [
    "indf = pd.read_hdf(h5in, 'orders')"
   ]
  },
  {
   "cell_type": "markdown",
   "metadata": {},
   "source": [
    "### Cancels, Trades, Orders for Liquidity Providers"
   ]
  },
  {
   "cell_type": "code",
   "execution_count": 135,
   "metadata": {},
   "outputs": [
    {
     "data": {
      "text/plain": [
       "(type          add  cancel\n",
       " trader_id                \n",
       " m0         499955  491258\n",
       " p0           6250    6224\n",
       " p1           9090    9050\n",
       " p10          4347    4319\n",
       " ...           ...     ...\n",
       " t6            680     NaN\n",
       " t7             20     NaN\n",
       " t8             19     NaN\n",
       " t9            751     NaN\n",
       " \n",
       " [97 rows x 2 columns], type          add  cancel\n",
       " trader_id                \n",
       " m0         499955  491258\n",
       " p0           6250    6224\n",
       " p1           9090    9050\n",
       " p10          4347    4319\n",
       " ...           ...     ...\n",
       " t6            680     NaN\n",
       " t7             20     NaN\n",
       " t8             19     NaN\n",
       " t9            751     NaN\n",
       " \n",
       " [97 rows x 2 columns])"
      ]
     },
     "execution_count": 135,
     "metadata": {},
     "output_type": "execute_result"
    }
   ],
   "source": [
    "indf = indf.assign(trader_id = indf.order_id.str.split('_').str[0])\n",
    "lp_df = indf.groupby(['trader_id','type']).quantity.count().unstack(level=-1)\n",
    "lpsum_df = indf.groupby(['trader_id','type']).quantity.sum().unstack(level=-1)\n",
    "lp_df, lpsum_df"
   ]
  },
  {
   "cell_type": "code",
   "execution_count": 136,
   "metadata": {},
   "outputs": [
    {
     "data": {
      "text/plain": [
       "(count        46.000000\n",
       " mean      13466.934783\n",
       " std       24690.971991\n",
       " min           2.000000\n",
       " 25%        2667.500000\n",
       " 50%        4173.500000\n",
       " 75%       10000.000000\n",
       " max      100000.000000\n",
       " Name: add, dtype: float64, count       45.000000\n",
       " mean     13689.622222\n",
       " std      24744.102419\n",
       " min       1416.000000\n",
       " 25%       2763.000000\n",
       " 50%       4319.000000\n",
       " 75%       9945.000000\n",
       " max      99437.000000\n",
       " Name: cancel, dtype: float64)"
      ]
     },
     "execution_count": 136,
     "metadata": {},
     "output_type": "execute_result"
    }
   ],
   "source": [
    "lp_df[lp_df.index.str[0]=='p']['add'].describe(), lp_df[lp_df.index.str[0]=='p']['cancel'].describe()"
   ]
  },
  {
   "cell_type": "code",
   "execution_count": 137,
   "metadata": {},
   "outputs": [
    {
     "data": {
      "text/plain": [
       "(           trade\n",
       " trader_id       \n",
       " m0          8534\n",
       " p0            23\n",
       " p1            39\n",
       " p10           27\n",
       " ...          ...\n",
       " p6            13\n",
       " p7           123\n",
       " p8            16\n",
       " p9            14\n",
       " \n",
       " [46 rows x 1 columns],            trade_vol\n",
       " trader_id           \n",
       " m0              8534\n",
       " p0                23\n",
       " p1                39\n",
       " p10               27\n",
       " ...              ...\n",
       " p6                13\n",
       " p7               123\n",
       " p8                16\n",
       " p9                14\n",
       " \n",
       " [46 rows x 1 columns])"
      ]
     },
     "execution_count": 137,
     "metadata": {},
     "output_type": "execute_result"
    }
   ],
   "source": [
    "indf2 = pd.read_hdf(h5in, 'trades')\n",
    "indf2 = indf2.assign(trader_id = indf2.resting_order_id.str.split('_').str[0])\n",
    "lt_df = pd.DataFrame(indf2.groupby(['trader_id']).quantity.count())\n",
    "lt_df.rename(columns={'quantity': 'trade'}, inplace=True)\n",
    "ltsum_df = pd.DataFrame(indf2.groupby(['trader_id']).quantity.sum())\n",
    "ltsum_df.rename(columns={'quantity': 'trade_vol'}, inplace=True)\n",
    "lt_df, ltsum_df"
   ]
  },
  {
   "cell_type": "code",
   "execution_count": 138,
   "metadata": {},
   "outputs": [
    {
     "data": {
      "text/plain": [
       "(type          add  cancel  trade  cancel_pct  cancel_to_trade  trade_pct\n",
       " trader_id                                                               \n",
       " m0         499955  491258   8534   98.260443        57.564800   1.706954\n",
       " p0           6250    6224     23   99.584000       270.608696   0.368000\n",
       " p1           9090    9050     39   99.559956       232.051282   0.429043\n",
       " p10          4347    4319     27   99.355878       159.962963   0.621118\n",
       " ...           ...     ...    ...         ...              ...        ...\n",
       " p6           2777    2763     13   99.495859       212.538462   0.468131\n",
       " p7          25000   24870    123   99.480000       202.195122   0.492000\n",
       " p8           3703    3686     16   99.540913       230.375000   0.432082\n",
       " p9           2222    2207     14   99.324932       157.642857   0.630063\n",
       " \n",
       " [46 rows x 6 columns],\n",
       " 98.260443439909594,\n",
       " 99.705882352941174,\n",
       " 57.564799625029295,\n",
       " 362.39999999999998)"
      ]
     },
     "execution_count": 138,
     "metadata": {},
     "output_type": "execute_result"
    }
   ],
   "source": [
    "both_count = pd.merge(lp_df, lt_df, how='right', left_index=True, right_index=True)\n",
    "both_count = both_count.assign(cancel_to_trade = both_count['cancel']/both_count['trade'],\n",
    "                               cancel_pct = 100*both_count['cancel']/both_count['add'],\n",
    "                               trade_pct = 100*both_count['trade']/both_count['add'])\n",
    "both_count, both_count.cancel_pct.min(), both_count.cancel_pct.max(), both_count.cancel_to_trade.min(), \\\n",
    "both_count.cancel_to_trade.max()"
   ]
  },
  {
   "cell_type": "code",
   "execution_count": 139,
   "metadata": {},
   "outputs": [
    {
     "data": {
      "text/plain": [
       "(type          add  cancel  trade_vol  cancel_order_vol_pct  cancel_trade_vol  \\\n",
       " trader_id                                                                      \n",
       " m0         499955  491258       8534             98.260443         57.564800   \n",
       " p0           6250    6224         23             99.584000        270.608696   \n",
       " p1           9090    9050         39             99.559956        232.051282   \n",
       " p10          4347    4319         27             99.355878        159.962963   \n",
       " ...           ...     ...        ...                   ...               ...   \n",
       " p6           2777    2763         13             99.495859        212.538462   \n",
       " p7          25000   24870        123             99.480000        202.195122   \n",
       " p8           3703    3686         16             99.540913        230.375000   \n",
       " p9           2222    2207         14             99.324932        157.642857   \n",
       " \n",
       " type       trade_order_vol_pct  \n",
       " trader_id                       \n",
       " m0                    1.706954  \n",
       " p0                    0.368000  \n",
       " p1                    0.429043  \n",
       " p10                   0.621118  \n",
       " ...                        ...  \n",
       " p6                    0.468131  \n",
       " p7                    0.492000  \n",
       " p8                    0.432082  \n",
       " p9                    0.630063  \n",
       " \n",
       " [46 rows x 6 columns],\n",
       " 98.260443439909594,\n",
       " 99.705882352941174,\n",
       " 57.564799625029295,\n",
       " 362.39999999999998)"
      ]
     },
     "execution_count": 139,
     "metadata": {},
     "output_type": "execute_result"
    }
   ],
   "source": [
    "both_sum = pd.merge(lpsum_df, ltsum_df, how='right', left_index=True, right_index=True)\n",
    "both_sum = both_sum.assign(trade_order_vol_pct = 100*both_sum['trade_vol']/both_sum['add'],\n",
    "                           cancel_order_vol_pct = 100*both_sum['cancel']/both_sum['add'],\n",
    "                           cancel_trade_vol = both_sum['cancel']/both_sum['trade_vol']\n",
    "                          )\n",
    "both_sum, both_sum.cancel_order_vol_pct.min(), both_sum.cancel_order_vol_pct.max(), both_sum.cancel_trade_vol.min(), \\\n",
    "both_sum.cancel_trade_vol.max()"
   ]
  },
  {
   "cell_type": "markdown",
   "metadata": {},
   "source": [
    "### Durations"
   ]
  },
  {
   "cell_type": "code",
   "execution_count": 140,
   "metadata": {},
   "outputs": [
    {
     "data": {
      "text/html": [
       "<div>\n",
       "<table border=\"1\" class=\"dataframe\">\n",
       "  <thead>\n",
       "    <tr style=\"text-align: right;\">\n",
       "      <th></th>\n",
       "      <th>trader_id</th>\n",
       "      <th>order_id</th>\n",
       "      <th>cancel_time</th>\n",
       "    </tr>\n",
       "  </thead>\n",
       "  <tbody>\n",
       "    <tr>\n",
       "      <th>62</th>\n",
       "      <td>p21</td>\n",
       "      <td>p21_2</td>\n",
       "      <td>11</td>\n",
       "    </tr>\n",
       "    <tr>\n",
       "      <th>85</th>\n",
       "      <td>p38</td>\n",
       "      <td>p38_3</td>\n",
       "      <td>13</td>\n",
       "    </tr>\n",
       "    <tr>\n",
       "      <th>87</th>\n",
       "      <td>p23</td>\n",
       "      <td>p23_2</td>\n",
       "      <td>14</td>\n",
       "    </tr>\n",
       "    <tr>\n",
       "      <th>104</th>\n",
       "      <td>m0</td>\n",
       "      <td>m0_10</td>\n",
       "      <td>15</td>\n",
       "    </tr>\n",
       "    <tr>\n",
       "      <th>...</th>\n",
       "      <td>...</td>\n",
       "      <td>...</td>\n",
       "      <td>...</td>\n",
       "    </tr>\n",
       "    <tr>\n",
       "      <th>44722</th>\n",
       "      <td>m0</td>\n",
       "      <td>m0_499850</td>\n",
       "      <td>100000</td>\n",
       "    </tr>\n",
       "    <tr>\n",
       "      <th>44725</th>\n",
       "      <td>p29</td>\n",
       "      <td>p29_99988</td>\n",
       "      <td>100000</td>\n",
       "    </tr>\n",
       "    <tr>\n",
       "      <th>44732</th>\n",
       "      <td>p42</td>\n",
       "      <td>p42_3571</td>\n",
       "      <td>100000</td>\n",
       "    </tr>\n",
       "    <tr>\n",
       "      <th>44735</th>\n",
       "      <td>p38</td>\n",
       "      <td>p38_99991</td>\n",
       "      <td>100000</td>\n",
       "    </tr>\n",
       "  </tbody>\n",
       "</table>\n",
       "<p>1107291 rows × 3 columns</p>\n",
       "</div>"
      ],
      "text/plain": [
       "      trader_id   order_id  cancel_time\n",
       "62          p21      p21_2           11\n",
       "85          p38      p38_3           13\n",
       "87          p23      p23_2           14\n",
       "104          m0      m0_10           15\n",
       "...         ...        ...          ...\n",
       "44722        m0  m0_499850       100000\n",
       "44725       p29  p29_99988       100000\n",
       "44732       p42   p42_3571       100000\n",
       "44735       p38  p38_99991       100000\n",
       "\n",
       "[1107291 rows x 3 columns]"
      ]
     },
     "execution_count": 140,
     "metadata": {},
     "output_type": "execute_result"
    }
   ],
   "source": [
    "add = indf[indf['type']=='add'][['trader_id','order_id', 'timestamp']]\n",
    "add.rename(columns={'timestamp': 'add_time'}, inplace=True)\n",
    "cancel = indf[indf['type']=='cancel'][['trader_id','order_id', 'timestamp']]\n",
    "cancel.rename(columns={'timestamp': 'cancel_time'}, inplace=True)\n",
    "cancel"
   ]
  },
  {
   "cell_type": "code",
   "execution_count": 141,
   "metadata": {},
   "outputs": [
    {
     "data": {
      "text/html": [
       "<div>\n",
       "<table border=\"1\" class=\"dataframe\">\n",
       "  <thead>\n",
       "    <tr style=\"text-align: right;\">\n",
       "      <th></th>\n",
       "      <th>trader_id_x</th>\n",
       "      <th>order_id</th>\n",
       "      <th>add_time</th>\n",
       "      <th>trader_id_y</th>\n",
       "      <th>cancel_time</th>\n",
       "      <th>cancel_duration</th>\n",
       "    </tr>\n",
       "  </thead>\n",
       "  <tbody>\n",
       "    <tr>\n",
       "      <th>0</th>\n",
       "      <td>p38</td>\n",
       "      <td>p38_1</td>\n",
       "      <td>1</td>\n",
       "      <td>p38</td>\n",
       "      <td>26</td>\n",
       "      <td>25</td>\n",
       "    </tr>\n",
       "    <tr>\n",
       "      <th>1</th>\n",
       "      <td>p29</td>\n",
       "      <td>p29_1</td>\n",
       "      <td>1</td>\n",
       "      <td>p29</td>\n",
       "      <td>24</td>\n",
       "      <td>23</td>\n",
       "    </tr>\n",
       "    <tr>\n",
       "      <th>2</th>\n",
       "      <td>p21</td>\n",
       "      <td>p21_1</td>\n",
       "      <td>1</td>\n",
       "      <td>p21</td>\n",
       "      <td>26</td>\n",
       "      <td>25</td>\n",
       "    </tr>\n",
       "    <tr>\n",
       "      <th>3</th>\n",
       "      <td>p29</td>\n",
       "      <td>p29_2</td>\n",
       "      <td>2</td>\n",
       "      <td>p29</td>\n",
       "      <td>39</td>\n",
       "      <td>37</td>\n",
       "    </tr>\n",
       "    <tr>\n",
       "      <th>...</th>\n",
       "      <td>...</td>\n",
       "      <td>...</td>\n",
       "      <td>...</td>\n",
       "      <td>...</td>\n",
       "      <td>...</td>\n",
       "      <td>...</td>\n",
       "    </tr>\n",
       "    <tr>\n",
       "      <th>1107287</th>\n",
       "      <td>m0</td>\n",
       "      <td>m0_499933</td>\n",
       "      <td>99996</td>\n",
       "      <td>m0</td>\n",
       "      <td>100000</td>\n",
       "      <td>4</td>\n",
       "    </tr>\n",
       "    <tr>\n",
       "      <th>1107288</th>\n",
       "      <td>m0</td>\n",
       "      <td>m0_499934</td>\n",
       "      <td>99996</td>\n",
       "      <td>m0</td>\n",
       "      <td>99999</td>\n",
       "      <td>3</td>\n",
       "    </tr>\n",
       "    <tr>\n",
       "      <th>1107289</th>\n",
       "      <td>m0</td>\n",
       "      <td>m0_499944</td>\n",
       "      <td>99998</td>\n",
       "      <td>m0</td>\n",
       "      <td>100000</td>\n",
       "      <td>2</td>\n",
       "    </tr>\n",
       "    <tr>\n",
       "      <th>1107290</th>\n",
       "      <td>m0</td>\n",
       "      <td>m0_499945</td>\n",
       "      <td>99998</td>\n",
       "      <td>m0</td>\n",
       "      <td>99998</td>\n",
       "      <td>0</td>\n",
       "    </tr>\n",
       "  </tbody>\n",
       "</table>\n",
       "<p>1107291 rows × 6 columns</p>\n",
       "</div>"
      ],
      "text/plain": [
       "        trader_id_x   order_id  add_time trader_id_y  cancel_time  \\\n",
       "0               p38      p38_1         1         p38           26   \n",
       "1               p29      p29_1         1         p29           24   \n",
       "2               p21      p21_1         1         p21           26   \n",
       "3               p29      p29_2         2         p29           39   \n",
       "...             ...        ...       ...         ...          ...   \n",
       "1107287          m0  m0_499933     99996          m0       100000   \n",
       "1107288          m0  m0_499934     99996          m0        99999   \n",
       "1107289          m0  m0_499944     99998          m0       100000   \n",
       "1107290          m0  m0_499945     99998          m0        99998   \n",
       "\n",
       "         cancel_duration  \n",
       "0                     25  \n",
       "1                     23  \n",
       "2                     25  \n",
       "3                     37  \n",
       "...                  ...  \n",
       "1107287                4  \n",
       "1107288                3  \n",
       "1107289                2  \n",
       "1107290                0  \n",
       "\n",
       "[1107291 rows x 6 columns]"
      ]
     },
     "execution_count": 141,
     "metadata": {},
     "output_type": "execute_result"
    }
   ],
   "source": [
    "add_cancel = pd.merge(add, cancel, left_on='order_id', right_on='order_id')\n",
    "add_cancel = add_cancel.assign(cancel_duration = add_cancel['cancel_time']-add_cancel['add_time'])\n",
    "add_cancel"
   ]
  },
  {
   "cell_type": "code",
   "execution_count": 142,
   "metadata": {},
   "outputs": [
    {
     "data": {
      "image/png": "[encoded data removed]",
      "text/plain": [
       "<matplotlib.figure.Figure at 0x2629d9f16d8>"
      ]
     },
     "metadata": {},
     "output_type": "display_data"
    }
   ],
   "source": [
    "fig = plt.figure(figsize=(13,9), dpi=300, facecolor='w')\n",
    "ax1 = fig.add_subplot(111)\n",
    "ax1.hist(add_cancel.cancel_duration, bins=500, normed=True, label='Cancel Duration')\n",
    "ax1.set_xlim(0, 500)\n",
    "ax1.set_xlabel('Cancel Duration (Steps)', family='Cambria')\n",
    "ax1.set_ylabel('Density', family='Cambria')\n",
    "ax1.legend(loc='upper left')\n",
    "fig.savefig('%scanceldur.png' % chartdir)\n",
    "plt.show()"
   ]
  },
  {
   "cell_type": "code",
   "execution_count": 143,
   "metadata": {},
   "outputs": [
    {
     "data": {
      "text/html": [
       "<div>\n",
       "<table border=\"1\" class=\"dataframe\">\n",
       "  <thead>\n",
       "    <tr style=\"text-align: right;\">\n",
       "      <th></th>\n",
       "      <th>trader_id_x</th>\n",
       "      <th>order_id</th>\n",
       "      <th>add_time</th>\n",
       "      <th>incoming_order_id</th>\n",
       "      <th>price</th>\n",
       "      <th>quantity</th>\n",
       "      <th>resting_order_id</th>\n",
       "      <th>resting_timestamp</th>\n",
       "      <th>side</th>\n",
       "      <th>timestamp</th>\n",
       "      <th>trader_id_y</th>\n",
       "      <th>trade_duration</th>\n",
       "    </tr>\n",
       "  </thead>\n",
       "  <tbody>\n",
       "    <tr>\n",
       "      <th>0</th>\n",
       "      <td>m0</td>\n",
       "      <td>m0_66</td>\n",
       "      <td>23</td>\n",
       "      <td>t33_1</td>\n",
       "      <td>999520</td>\n",
       "      <td>1</td>\n",
       "      <td>m0_66</td>\n",
       "      <td>23</td>\n",
       "      <td>buy</td>\n",
       "      <td>46</td>\n",
       "      <td>m0</td>\n",
       "      <td>23</td>\n",
       "    </tr>\n",
       "    <tr>\n",
       "      <th>1</th>\n",
       "      <td>p4</td>\n",
       "      <td>p4_2</td>\n",
       "      <td>36</td>\n",
       "      <td>t24_1</td>\n",
       "      <td>999521</td>\n",
       "      <td>1</td>\n",
       "      <td>p4_2</td>\n",
       "      <td>36</td>\n",
       "      <td>buy</td>\n",
       "      <td>85</td>\n",
       "      <td>p4</td>\n",
       "      <td>49</td>\n",
       "    </tr>\n",
       "    <tr>\n",
       "      <th>2</th>\n",
       "      <td>m0</td>\n",
       "      <td>m0_157</td>\n",
       "      <td>41</td>\n",
       "      <td>t6_1</td>\n",
       "      <td>999518</td>\n",
       "      <td>1</td>\n",
       "      <td>m0_157</td>\n",
       "      <td>41</td>\n",
       "      <td>sell</td>\n",
       "      <td>147</td>\n",
       "      <td>m0</td>\n",
       "      <td>106</td>\n",
       "    </tr>\n",
       "    <tr>\n",
       "      <th>3</th>\n",
       "      <td>m0</td>\n",
       "      <td>m0_164</td>\n",
       "      <td>42</td>\n",
       "      <td>t33_2</td>\n",
       "      <td>999521</td>\n",
       "      <td>1</td>\n",
       "      <td>m0_164</td>\n",
       "      <td>42</td>\n",
       "      <td>buy</td>\n",
       "      <td>92</td>\n",
       "      <td>m0</td>\n",
       "      <td>50</td>\n",
       "    </tr>\n",
       "    <tr>\n",
       "      <th>...</th>\n",
       "      <td>...</td>\n",
       "      <td>...</td>\n",
       "      <td>...</td>\n",
       "      <td>...</td>\n",
       "      <td>...</td>\n",
       "      <td>...</td>\n",
       "      <td>...</td>\n",
       "      <td>...</td>\n",
       "      <td>...</td>\n",
       "      <td>...</td>\n",
       "      <td>...</td>\n",
       "      <td>...</td>\n",
       "    </tr>\n",
       "    <tr>\n",
       "      <th>11759</th>\n",
       "      <td>p42</td>\n",
       "      <td>p42_3569</td>\n",
       "      <td>99932</td>\n",
       "      <td>t6_680</td>\n",
       "      <td>999554</td>\n",
       "      <td>1</td>\n",
       "      <td>p42_3569</td>\n",
       "      <td>99932</td>\n",
       "      <td>sell</td>\n",
       "      <td>99960</td>\n",
       "      <td>p42</td>\n",
       "      <td>28</td>\n",
       "    </tr>\n",
       "    <tr>\n",
       "      <th>11760</th>\n",
       "      <td>m0</td>\n",
       "      <td>m0_499619</td>\n",
       "      <td>99933</td>\n",
       "      <td>t43_193</td>\n",
       "      <td>999557</td>\n",
       "      <td>1</td>\n",
       "      <td>m0_499619</td>\n",
       "      <td>99933</td>\n",
       "      <td>buy</td>\n",
       "      <td>99974</td>\n",
       "      <td>m0</td>\n",
       "      <td>41</td>\n",
       "    </tr>\n",
       "    <tr>\n",
       "      <th>11761</th>\n",
       "      <td>p29</td>\n",
       "      <td>p29_99956</td>\n",
       "      <td>99956</td>\n",
       "      <td>t40_46</td>\n",
       "      <td>999555</td>\n",
       "      <td>1</td>\n",
       "      <td>p29_99956</td>\n",
       "      <td>99956</td>\n",
       "      <td>sell</td>\n",
       "      <td>99958</td>\n",
       "      <td>p29</td>\n",
       "      <td>2</td>\n",
       "    </tr>\n",
       "    <tr>\n",
       "      <th>11762</th>\n",
       "      <td>p10</td>\n",
       "      <td>p10_4346</td>\n",
       "      <td>99958</td>\n",
       "      <td>t24_1176</td>\n",
       "      <td>999554</td>\n",
       "      <td>1</td>\n",
       "      <td>p10_4346</td>\n",
       "      <td>99958</td>\n",
       "      <td>sell</td>\n",
       "      <td>99960</td>\n",
       "      <td>p10</td>\n",
       "      <td>2</td>\n",
       "    </tr>\n",
       "  </tbody>\n",
       "</table>\n",
       "<p>11763 rows × 12 columns</p>\n",
       "</div>"
      ],
      "text/plain": [
       "      trader_id_x   order_id  add_time incoming_order_id   price  quantity  \\\n",
       "0              m0      m0_66        23             t33_1  999520         1   \n",
       "1              p4       p4_2        36             t24_1  999521         1   \n",
       "2              m0     m0_157        41              t6_1  999518         1   \n",
       "3              m0     m0_164        42             t33_2  999521         1   \n",
       "...           ...        ...       ...               ...     ...       ...   \n",
       "11759         p42   p42_3569     99932            t6_680  999554         1   \n",
       "11760          m0  m0_499619     99933           t43_193  999557         1   \n",
       "11761         p29  p29_99956     99956            t40_46  999555         1   \n",
       "11762         p10   p10_4346     99958          t24_1176  999554         1   \n",
       "\n",
       "      resting_order_id  resting_timestamp  side  timestamp trader_id_y  \\\n",
       "0                m0_66                 23   buy         46          m0   \n",
       "1                 p4_2                 36   buy         85          p4   \n",
       "2               m0_157                 41  sell        147          m0   \n",
       "3               m0_164                 42   buy         92          m0   \n",
       "...                ...                ...   ...        ...         ...   \n",
       "11759         p42_3569              99932  sell      99960         p42   \n",
       "11760        m0_499619              99933   buy      99974          m0   \n",
       "11761        p29_99956              99956  sell      99958         p29   \n",
       "11762         p10_4346              99958  sell      99960         p10   \n",
       "\n",
       "       trade_duration  \n",
       "0                  23  \n",
       "1                  49  \n",
       "2                 106  \n",
       "3                  50  \n",
       "...               ...  \n",
       "11759              28  \n",
       "11760              41  \n",
       "11761               2  \n",
       "11762               2  \n",
       "\n",
       "[11763 rows x 12 columns]"
      ]
     },
     "execution_count": 143,
     "metadata": {},
     "output_type": "execute_result"
    }
   ],
   "source": [
    "add_trade = pd.merge(add, indf2, left_on='order_id', right_on='resting_order_id')\n",
    "add_trade = add_trade.assign(trade_duration = add_trade['timestamp']-add_trade['add_time'])\n",
    "add_trade"
   ]
  },
  {
   "cell_type": "code",
   "execution_count": 144,
   "metadata": {},
   "outputs": [
    {
     "data": {
      "image/png": "[encoded data removed]",
      "text/plain": [
       "<matplotlib.figure.Figure at 0x2627ac616a0>"
      ]
     },
     "metadata": {},
     "output_type": "display_data"
    }
   ],
   "source": [
    "fig = plt.figure(figsize=(13,9), dpi=300, facecolor='w')\n",
    "ax1 = fig.add_subplot(111)\n",
    "ax1.hist(add_trade.trade_duration, bins=5000, normed=True, label='Trade Duration')\n",
    "ax1.set_xlim(0, 100)\n",
    "ax1.set_xlabel('Trade Duration (Steps)', family='Cambria')\n",
    "ax1.set_ylabel('Density', family='Cambria')\n",
    "ax1.legend(loc='upper left')\n",
    "fig.savefig('%stradedur.png' % chartdir)\n",
    "plt.show()"
   ]
  },
  {
   "cell_type": "code",
   "execution_count": 145,
   "metadata": {},
   "outputs": [
    {
     "data": {
      "text/plain": [
       "(count    11763.000000\n",
       " mean        34.988778\n",
       " std         27.786330\n",
       " min          0.000000\n",
       " 25%         15.000000\n",
       " 50%         29.000000\n",
       " 75%         48.000000\n",
       " max        359.000000\n",
       " Name: trade_duration, dtype: float64, count    1107291.000000\n",
       " mean          31.963175\n",
       " std           32.519251\n",
       " min            0.000000\n",
       " 25%            9.000000\n",
       " 50%           22.000000\n",
       " 75%           44.000000\n",
       " max          497.000000\n",
       " Name: cancel_duration, dtype: float64)"
      ]
     },
     "execution_count": 145,
     "metadata": {},
     "output_type": "execute_result"
    }
   ],
   "source": [
    "add_trade.trade_duration.describe(), add_cancel.cancel_duration.describe()"
   ]
  },
  {
   "cell_type": "code",
   "execution_count": null,
   "metadata": {
    "collapsed": true
   },
   "outputs": [],
   "source": []
  }
 ],
 "metadata": {
  "kernelspec": {
   "display_name": "Python 3",
   "language": "python",
   "name": "python3"
  },
  "language_info": {
   "codemirror_mode": {
    "name": "ipython",
    "version": 3
   },
   "file_extension": ".py",
   "mimetype": "text/x-python",
   "name": "python",
   "nbconvert_exporter": "python",
   "pygments_lexer": "ipython3",
   "version": "3.6.0"
  }
 },
 "nbformat": 4,
 "nbformat_minor": 1
}

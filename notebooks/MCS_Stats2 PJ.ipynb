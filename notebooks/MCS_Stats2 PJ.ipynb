{
 "cells": [
  {
   "cell_type": "code",
   "execution_count": 1,
   "metadata": {
    "collapsed": true
   },
   "outputs": [],
   "source": [
    "import pandas as pd\n",
    "import numpy as np\n",
    "\n",
    "%matplotlib inline\n",
    "import matplotlib.pyplot as plt\n",
    "from matplotlib import rc, rcParams\n",
    "rc('font', **{'family': 'serif', 'serif': ['Cambria', 'Times New Roman']})"
   ]
  },
  {
   "cell_type": "code",
   "execution_count": 2,
   "metadata": {
    "collapsed": false
   },
   "outputs": [],
   "source": [
    "%load_ext watermark"
   ]
  },
  {
   "cell_type": "code",
   "execution_count": 3,
   "metadata": {
    "collapsed": false
   },
   "outputs": [
    {
     "name": "stdout",
     "output_type": "stream",
     "text": [
      "CPython 3.5.2\n",
      "IPython 4.0.3\n",
      "\n",
      "pandas 0.17.1\n",
      "numpy 1.10.4\n",
      "matplotlib 1.5.1\n",
      "\n",
      "compiler   : MSC v.1900 64 bit (AMD64)\n",
      "system     : Windows\n",
      "release    : 10\n",
      "machine    : AMD64\n",
      "processor  : Intel64 Family 6 Model 42 Stepping 7, GenuineIntel\n",
      "CPU cores  : 8\n",
      "interpreter: 64bit\n",
      "host name  : user-PC\n"
     ]
    }
   ],
   "source": [
    "%watermark -h -v -m -p pandas,numpy,matplotlib"
   ]
  },
  {
   "cell_type": "code",
   "execution_count": 4,
   "metadata": {
    "collapsed": true
   },
   "outputs": [],
   "source": [
    "pd.options.display.max_rows = 8"
   ]
  },
  {
   "cell_type": "code",
   "execution_count": 5,
   "metadata": {
    "collapsed": true
   },
   "outputs": [],
   "source": [
    "h5root = '..\\\\h5 files\\\\'\n",
    "chartdir = 'C:\\\\Users\\\\user\\\\Documents\\\\Agent-Based Models\\\\Charts\\\\'"
   ]
  },
  {
   "cell_type": "code",
   "execution_count": 6,
   "metadata": {
    "collapsed": true
   },
   "outputs": [],
   "source": [
    "h5subdir = 'WN001 Cl10 PJ_100N\\\\'\n",
    "h5file = 'mm5_pjtest1.h5'"
   ]
  },
  {
   "cell_type": "code",
   "execution_count": 7,
   "metadata": {
    "collapsed": true
   },
   "outputs": [],
   "source": [
    "h5in = '%s%s%s' % (h5root, h5subdir, h5file)"
   ]
  },
  {
   "cell_type": "code",
   "execution_count": 8,
   "metadata": {
    "collapsed": false
   },
   "outputs": [],
   "source": [
    "indf = pd.read_hdf(h5in, 'orders')"
   ]
  },
  {
   "cell_type": "markdown",
   "metadata": {},
   "source": [
    "### Cancels, Trades, Orders for Liquidity Providers"
   ]
  },
  {
   "cell_type": "code",
   "execution_count": 9,
   "metadata": {
    "collapsed": false
   },
   "outputs": [
    {
     "data": {
      "text/plain": [
       "(type          add  cancel\n",
       " trader_id                \n",
       " j0          60716    1869\n",
       " m0          66660   65323\n",
       " m1         499960  483279\n",
       " m2         100000   97855\n",
       " ...           ...     ...\n",
       " t96           877     NaN\n",
       " t97           416     NaN\n",
       " t98          4166     NaN\n",
       " t99           305     NaN\n",
       " \n",
       " [157 rows x 2 columns], type          add  cancel\n",
       " trader_id                \n",
       " j0          60716    1869\n",
       " m0         333300  324931\n",
       " m1         499960  483279\n",
       " m2         500000  486715\n",
       " ...           ...     ...\n",
       " t96           877     NaN\n",
       " t97           416     NaN\n",
       " t98          4166     NaN\n",
       " t99           305     NaN\n",
       " \n",
       " [157 rows x 2 columns])"
      ]
     },
     "execution_count": 9,
     "metadata": {},
     "output_type": "execute_result"
    }
   ],
   "source": [
    "indf = indf.assign(trader_id = indf.order_id.str.split('_').str[0])\n",
    "lp_df = indf.groupby(['trader_id','type']).quantity.count().unstack(level=-1)\n",
    "lpsum_df = indf.groupby(['trader_id','type']).quantity.sum().unstack(level=-1)\n",
    "lp_df, lpsum_df"
   ]
  },
  {
   "cell_type": "code",
   "execution_count": 10,
   "metadata": {
    "collapsed": false
   },
   "outputs": [
    {
     "data": {
      "text/plain": [
       "(count       51.000000\n",
       " mean      9214.647059\n",
       " std      10596.170308\n",
       " min          2.000000\n",
       " 25%       1909.000000\n",
       " 50%       5000.000000\n",
       " 75%      12500.000000\n",
       " max      50000.000000\n",
       " Name: add, dtype: float64, count       50.000000\n",
       " mean      9345.180000\n",
       " std      10559.293113\n",
       " min        368.000000\n",
       " 25%       2047.500000\n",
       " 50%       5413.500000\n",
       " 75%      12425.500000\n",
       " max      49712.000000\n",
       " Name: cancel, dtype: float64)"
      ]
     },
     "execution_count": 10,
     "metadata": {},
     "output_type": "execute_result"
    }
   ],
   "source": [
    "lp_df[lp_df.index.str[0]=='p']['add'].describe(), lp_df[lp_df.index.str[0]=='p']['cancel'].describe()"
   ]
  },
  {
   "cell_type": "code",
   "execution_count": 12,
   "metadata": {
    "collapsed": false
   },
   "outputs": [
    {
     "data": {
      "text/plain": [
       "(           trade\n",
       " trader_id       \n",
       " j0         58845\n",
       " m0          4124\n",
       " m1         16516\n",
       " m2          6618\n",
       " ...          ...\n",
       " p6            72\n",
       " p7           144\n",
       " p8            47\n",
       " p9           116\n",
       " \n",
       " [56 rows x 1 columns],            trade_vol\n",
       " trader_id           \n",
       " j0             58845\n",
       " m0              8259\n",
       " m1             16516\n",
       " m2             13110\n",
       " ...              ...\n",
       " p6                72\n",
       " p7               144\n",
       " p8                47\n",
       " p9               116\n",
       " \n",
       " [56 rows x 1 columns])"
      ]
     },
     "execution_count": 12,
     "metadata": {},
     "output_type": "execute_result"
    }
   ],
   "source": [
    "indf2 = pd.read_hdf(h5in, 'trades')\n",
    "indf2 = indf2.assign(trader_id = indf2.resting_order_id.str.split('_').str[0])\n",
    "lt_df = pd.DataFrame(indf2.groupby(['trader_id']).quantity.count())\n",
    "lt_df.rename(columns={'quantity': 'trade'}, inplace=True)\n",
    "ltsum_df = pd.DataFrame(indf2.groupby(['trader_id']).quantity.sum())\n",
    "ltsum_df.rename(columns={'quantity': 'trade_vol'}, inplace=True)\n",
    "lt_df, ltsum_df"
   ]
  },
  {
   "cell_type": "code",
   "execution_count": 13,
   "metadata": {
    "collapsed": false
   },
   "outputs": [
    {
     "data": {
      "text/plain": [
       "(type          add  cancel  trade  cancel_pct  cancel_to_trade  trade_pct\n",
       " trader_id                                                               \n",
       " j0          60716    1869  58845    3.078266         0.031761  96.918440\n",
       " m0          66660   65323   4124   97.994299        15.839719   6.186619\n",
       " m1         499960  483279  16516   96.663533        29.261262   3.303464\n",
       " m2         100000   97855   6618   97.855000        14.786189   6.618000\n",
       " ...           ...     ...    ...         ...              ...        ...\n",
       " p6          12500   12426     72   99.408000       172.583333   0.576000\n",
       " p7          25000   24849    144   99.396000       172.562500   0.576000\n",
       " p8           9090    9039     47   99.438944       192.319149   0.517052\n",
       " p9          16666   16546    116   99.279971       142.637931   0.696028\n",
       " \n",
       " [56 rows x 6 columns],\n",
       " 3.0782660254298704,\n",
       " 99.849849849849846,\n",
       " 0.031761407086413458,\n",
       " 464.0)"
      ]
     },
     "execution_count": 13,
     "metadata": {},
     "output_type": "execute_result"
    }
   ],
   "source": [
    "both_count = pd.merge(lp_df, lt_df, how='right', left_index=True, right_index=True)\n",
    "both_count = both_count.assign(cancel_to_trade = both_count['cancel']/both_count['trade'],\n",
    "                               cancel_pct = 100*both_count['cancel']/both_count['add'],\n",
    "                               trade_pct = 100*both_count['trade']/both_count['add'])\n",
    "both_count, both_count.cancel_pct.min(), both_count.cancel_pct.max(), both_count.cancel_to_trade.min(), \\\n",
    "both_count.cancel_to_trade.max()"
   ]
  },
  {
   "cell_type": "code",
   "execution_count": 14,
   "metadata": {
    "collapsed": false
   },
   "outputs": [
    {
     "data": {
      "text/plain": [
       "(type          add  cancel  trade_vol  cancel_order_vol_pct  cancel_trade_vol  \\\n",
       " trader_id                                                                      \n",
       " j0          60716    1869      58845              3.078266          0.031761   \n",
       " m0         333300  324931       8259             97.489049         39.342656   \n",
       " m1         499960  483279      16516             96.663533         29.261262   \n",
       " m2         500000  486715      13110             97.343000         37.125477   \n",
       " ...           ...     ...        ...                   ...               ...   \n",
       " p6          12500   12426         72             99.408000        172.583333   \n",
       " p7          25000   24849        144             99.396000        172.562500   \n",
       " p8           9090    9039         47             99.438944        192.319149   \n",
       " p9          16666   16546        116             99.279971        142.637931   \n",
       " \n",
       " type       trade_order_vol_pct  \n",
       " trader_id                       \n",
       " j0                   96.918440  \n",
       " m0                    2.477948  \n",
       " m1                    3.303464  \n",
       " m2                    2.622000  \n",
       " ...                        ...  \n",
       " p6                    0.576000  \n",
       " p7                    0.576000  \n",
       " p8                    0.517052  \n",
       " p9                    0.696028  \n",
       " \n",
       " [56 rows x 6 columns],\n",
       " 3.0782660254298704,\n",
       " 99.789789789789793,\n",
       " 0.031761407086413458,\n",
       " 474.71428571428572)"
      ]
     },
     "execution_count": 14,
     "metadata": {},
     "output_type": "execute_result"
    }
   ],
   "source": [
    "both_sum = pd.merge(lpsum_df, ltsum_df, how='right', left_index=True, right_index=True)\n",
    "both_sum = both_sum.assign(trade_order_vol_pct = 100*both_sum['trade_vol']/both_sum['add'],\n",
    "                           cancel_order_vol_pct = 100*both_sum['cancel']/both_sum['add'],\n",
    "                           cancel_trade_vol = both_sum['cancel']/both_sum['trade_vol']\n",
    "                          )\n",
    "both_sum, both_sum.cancel_order_vol_pct.min(), both_sum.cancel_order_vol_pct.max(), both_sum.cancel_trade_vol.min(), \\\n",
    "both_sum.cancel_trade_vol.max()"
   ]
  },
  {
   "cell_type": "markdown",
   "metadata": {},
   "source": [
    "### Durations"
   ]
  },
  {
   "cell_type": "code",
   "execution_count": 15,
   "metadata": {
    "collapsed": false
   },
   "outputs": [
    {
     "data": {
      "text/html": [
       "<div>\n",
       "<table border=\"1\" class=\"dataframe\">\n",
       "  <thead>\n",
       "    <tr style=\"text-align: right;\">\n",
       "      <th></th>\n",
       "      <th>trader_id</th>\n",
       "      <th>order_id</th>\n",
       "      <th>cancel_time</th>\n",
       "    </tr>\n",
       "  </thead>\n",
       "  <tbody>\n",
       "    <tr>\n",
       "      <th>58</th>\n",
       "      <td>p8</td>\n",
       "      <td>p8_1</td>\n",
       "      <td>11</td>\n",
       "    </tr>\n",
       "    <tr>\n",
       "      <th>59</th>\n",
       "      <td>p26</td>\n",
       "      <td>p26_1</td>\n",
       "      <td>11</td>\n",
       "    </tr>\n",
       "    <tr>\n",
       "      <th>60</th>\n",
       "      <td>p27</td>\n",
       "      <td>p27_3</td>\n",
       "      <td>11</td>\n",
       "    </tr>\n",
       "    <tr>\n",
       "      <th>62</th>\n",
       "      <td>p32</td>\n",
       "      <td>p32_2</td>\n",
       "      <td>12</td>\n",
       "    </tr>\n",
       "    <tr>\n",
       "      <th>...</th>\n",
       "      <td>...</td>\n",
       "      <td>...</td>\n",
       "      <td>...</td>\n",
       "    </tr>\n",
       "    <tr>\n",
       "      <th>50979</th>\n",
       "      <td>p3</td>\n",
       "      <td>p3_9089</td>\n",
       "      <td>100000</td>\n",
       "    </tr>\n",
       "    <tr>\n",
       "      <th>50982</th>\n",
       "      <td>p22</td>\n",
       "      <td>p22_3030</td>\n",
       "      <td>100000</td>\n",
       "    </tr>\n",
       "    <tr>\n",
       "      <th>50983</th>\n",
       "      <td>p22</td>\n",
       "      <td>p22_3026</td>\n",
       "      <td>100000</td>\n",
       "    </tr>\n",
       "    <tr>\n",
       "      <th>51003</th>\n",
       "      <td>p18</td>\n",
       "      <td>p18_10000</td>\n",
       "      <td>100000</td>\n",
       "    </tr>\n",
       "  </tbody>\n",
       "</table>\n",
       "<p>1197177 rows × 3 columns</p>\n",
       "</div>"
      ],
      "text/plain": [
       "      trader_id   order_id  cancel_time\n",
       "58           p8       p8_1           11\n",
       "59          p26      p26_1           11\n",
       "60          p27      p27_3           11\n",
       "62          p32      p32_2           12\n",
       "...         ...        ...          ...\n",
       "50979        p3    p3_9089       100000\n",
       "50982       p22   p22_3030       100000\n",
       "50983       p22   p22_3026       100000\n",
       "51003       p18  p18_10000       100000\n",
       "\n",
       "[1197177 rows x 3 columns]"
      ]
     },
     "execution_count": 15,
     "metadata": {},
     "output_type": "execute_result"
    }
   ],
   "source": [
    "add = indf[indf['type']=='add'][['trader_id','order_id', 'timestamp']]\n",
    "add.rename(columns={'timestamp': 'add_time'}, inplace=True)\n",
    "cancel = indf[indf['type']=='cancel'][['trader_id','order_id', 'timestamp']]\n",
    "cancel.rename(columns={'timestamp': 'cancel_time'}, inplace=True)\n",
    "cancel"
   ]
  },
  {
   "cell_type": "code",
   "execution_count": 16,
   "metadata": {
    "collapsed": false
   },
   "outputs": [
    {
     "data": {
      "text/html": [
       "<div>\n",
       "<table border=\"1\" class=\"dataframe\">\n",
       "  <thead>\n",
       "    <tr style=\"text-align: right;\">\n",
       "      <th></th>\n",
       "      <th>trader_id_x</th>\n",
       "      <th>order_id</th>\n",
       "      <th>add_time</th>\n",
       "      <th>trader_id_y</th>\n",
       "      <th>cancel_time</th>\n",
       "      <th>cancel_duration</th>\n",
       "    </tr>\n",
       "  </thead>\n",
       "  <tbody>\n",
       "    <tr>\n",
       "      <th>0</th>\n",
       "      <td>p27</td>\n",
       "      <td>p27_1</td>\n",
       "      <td>2</td>\n",
       "      <td>p27</td>\n",
       "      <td>124</td>\n",
       "      <td>122</td>\n",
       "    </tr>\n",
       "    <tr>\n",
       "      <th>1</th>\n",
       "      <td>p47</td>\n",
       "      <td>p47_1</td>\n",
       "      <td>3</td>\n",
       "      <td>p47</td>\n",
       "      <td>16</td>\n",
       "      <td>13</td>\n",
       "    </tr>\n",
       "    <tr>\n",
       "      <th>2</th>\n",
       "      <td>p26</td>\n",
       "      <td>p26_1</td>\n",
       "      <td>3</td>\n",
       "      <td>p26</td>\n",
       "      <td>11</td>\n",
       "      <td>8</td>\n",
       "    </tr>\n",
       "    <tr>\n",
       "      <th>3</th>\n",
       "      <td>p39</td>\n",
       "      <td>p39_1</td>\n",
       "      <td>3</td>\n",
       "      <td>p39</td>\n",
       "      <td>30</td>\n",
       "      <td>27</td>\n",
       "    </tr>\n",
       "    <tr>\n",
       "      <th>...</th>\n",
       "      <td>...</td>\n",
       "      <td>...</td>\n",
       "      <td>...</td>\n",
       "      <td>...</td>\n",
       "      <td>...</td>\n",
       "      <td>...</td>\n",
       "    </tr>\n",
       "    <tr>\n",
       "      <th>1197173</th>\n",
       "      <td>m1</td>\n",
       "      <td>m1_499939</td>\n",
       "      <td>99996</td>\n",
       "      <td>m1</td>\n",
       "      <td>99999</td>\n",
       "      <td>3</td>\n",
       "    </tr>\n",
       "    <tr>\n",
       "      <th>1197174</th>\n",
       "      <td>m1</td>\n",
       "      <td>m1_499948</td>\n",
       "      <td>99998</td>\n",
       "      <td>m1</td>\n",
       "      <td>99998</td>\n",
       "      <td>0</td>\n",
       "    </tr>\n",
       "    <tr>\n",
       "      <th>1197175</th>\n",
       "      <td>m1</td>\n",
       "      <td>m1_499949</td>\n",
       "      <td>99998</td>\n",
       "      <td>m1</td>\n",
       "      <td>99998</td>\n",
       "      <td>0</td>\n",
       "    </tr>\n",
       "    <tr>\n",
       "      <th>1197176</th>\n",
       "      <td>p18</td>\n",
       "      <td>p18_10000</td>\n",
       "      <td>100000</td>\n",
       "      <td>p18</td>\n",
       "      <td>100000</td>\n",
       "      <td>0</td>\n",
       "    </tr>\n",
       "  </tbody>\n",
       "</table>\n",
       "<p>1197177 rows × 6 columns</p>\n",
       "</div>"
      ],
      "text/plain": [
       "        trader_id_x   order_id  add_time trader_id_y  cancel_time  \\\n",
       "0               p27      p27_1         2         p27          124   \n",
       "1               p47      p47_1         3         p47           16   \n",
       "2               p26      p26_1         3         p26           11   \n",
       "3               p39      p39_1         3         p39           30   \n",
       "...             ...        ...       ...         ...          ...   \n",
       "1197173          m1  m1_499939     99996          m1        99999   \n",
       "1197174          m1  m1_499948     99998          m1        99998   \n",
       "1197175          m1  m1_499949     99998          m1        99998   \n",
       "1197176         p18  p18_10000    100000         p18       100000   \n",
       "\n",
       "         cancel_duration  \n",
       "0                    122  \n",
       "1                     13  \n",
       "2                      8  \n",
       "3                     27  \n",
       "...                  ...  \n",
       "1197173                3  \n",
       "1197174                0  \n",
       "1197175                0  \n",
       "1197176                0  \n",
       "\n",
       "[1197177 rows x 6 columns]"
      ]
     },
     "execution_count": 16,
     "metadata": {},
     "output_type": "execute_result"
    }
   ],
   "source": [
    "add_cancel = pd.merge(add, cancel, left_on='order_id', right_on='order_id')\n",
    "add_cancel = add_cancel.assign(cancel_duration = add_cancel['cancel_time']-add_cancel['add_time'])\n",
    "add_cancel"
   ]
  },
  {
   "cell_type": "code",
   "execution_count": 17,
   "metadata": {
    "collapsed": false
   },
   "outputs": [
    {
     "data": {
      "image/png": "[encoded data removed]",
      "text/plain": [
       "<matplotlib.figure.Figure at 0x2304b892048>"
      ]
     },
     "metadata": {},
     "output_type": "display_data"
    }
   ],
   "source": [
    "fig = plt.figure(figsize=(13,9), dpi=300, facecolor='w')\n",
    "ax1 = fig.add_subplot(111)\n",
    "ax1.hist(add_cancel.cancel_duration, bins=500, normed=True, label='Cancel Duration')\n",
    "ax1.set_xlim(0, 500)\n",
    "ax1.set_xlabel('Cancel Duration (Steps)', family='Cambria')\n",
    "ax1.set_ylabel('Density', family='Cambria')\n",
    "ax1.legend(loc='upper left')\n",
    "fig.savefig('%scanceldur.png' % chartdir)\n",
    "plt.show()"
   ]
  },
  {
   "cell_type": "code",
   "execution_count": 18,
   "metadata": {
    "collapsed": false
   },
   "outputs": [
    {
     "data": {
      "text/html": [
       "<div>\n",
       "<table border=\"1\" class=\"dataframe\">\n",
       "  <thead>\n",
       "    <tr style=\"text-align: right;\">\n",
       "      <th></th>\n",
       "      <th>trader_id_x</th>\n",
       "      <th>order_id</th>\n",
       "      <th>add_time</th>\n",
       "      <th>incoming_order_id</th>\n",
       "      <th>price</th>\n",
       "      <th>quantity</th>\n",
       "      <th>resting_order_id</th>\n",
       "      <th>resting_timestamp</th>\n",
       "      <th>side</th>\n",
       "      <th>timestamp</th>\n",
       "      <th>trader_id_y</th>\n",
       "      <th>trade_duration</th>\n",
       "    </tr>\n",
       "  </thead>\n",
       "  <tbody>\n",
       "    <tr>\n",
       "      <th>0</th>\n",
       "      <td>p6</td>\n",
       "      <td>p6_1</td>\n",
       "      <td>8</td>\n",
       "      <td>t10_1</td>\n",
       "      <td>999535</td>\n",
       "      <td>1</td>\n",
       "      <td>p6_1</td>\n",
       "      <td>8</td>\n",
       "      <td>buy</td>\n",
       "      <td>18</td>\n",
       "      <td>p6</td>\n",
       "      <td>10</td>\n",
       "    </tr>\n",
       "    <tr>\n",
       "      <th>1</th>\n",
       "      <td>j0</td>\n",
       "      <td>j0_1</td>\n",
       "      <td>10</td>\n",
       "      <td>t73_1</td>\n",
       "      <td>999534</td>\n",
       "      <td>1</td>\n",
       "      <td>j0_1</td>\n",
       "      <td>10</td>\n",
       "      <td>buy</td>\n",
       "      <td>18</td>\n",
       "      <td>j0</td>\n",
       "      <td>8</td>\n",
       "    </tr>\n",
       "    <tr>\n",
       "      <th>2</th>\n",
       "      <td>j0</td>\n",
       "      <td>j0_2</td>\n",
       "      <td>10</td>\n",
       "      <td>t30_1</td>\n",
       "      <td>999532</td>\n",
       "      <td>1</td>\n",
       "      <td>j0_2</td>\n",
       "      <td>10</td>\n",
       "      <td>sell</td>\n",
       "      <td>14</td>\n",
       "      <td>j0</td>\n",
       "      <td>4</td>\n",
       "    </tr>\n",
       "    <tr>\n",
       "      <th>3</th>\n",
       "      <td>j0</td>\n",
       "      <td>j0_3</td>\n",
       "      <td>14</td>\n",
       "      <td>t30_2</td>\n",
       "      <td>999532</td>\n",
       "      <td>1</td>\n",
       "      <td>j0_3</td>\n",
       "      <td>14</td>\n",
       "      <td>sell</td>\n",
       "      <td>21</td>\n",
       "      <td>j0</td>\n",
       "      <td>7</td>\n",
       "    </tr>\n",
       "    <tr>\n",
       "      <th>...</th>\n",
       "      <td>...</td>\n",
       "      <td>...</td>\n",
       "      <td>...</td>\n",
       "      <td>...</td>\n",
       "      <td>...</td>\n",
       "      <td>...</td>\n",
       "      <td>...</td>\n",
       "      <td>...</td>\n",
       "      <td>...</td>\n",
       "      <td>...</td>\n",
       "      <td>...</td>\n",
       "      <td>...</td>\n",
       "    </tr>\n",
       "    <tr>\n",
       "      <th>94850</th>\n",
       "      <td>j0</td>\n",
       "      <td>j0_60712</td>\n",
       "      <td>99994</td>\n",
       "      <td>t73_11110</td>\n",
       "      <td>999623</td>\n",
       "      <td>1</td>\n",
       "      <td>j0_60712</td>\n",
       "      <td>99994</td>\n",
       "      <td>sell</td>\n",
       "      <td>99999</td>\n",
       "      <td>j0</td>\n",
       "      <td>5</td>\n",
       "    </tr>\n",
       "    <tr>\n",
       "      <th>94851</th>\n",
       "      <td>m1</td>\n",
       "      <td>m1_499927</td>\n",
       "      <td>99994</td>\n",
       "      <td>t41_2500</td>\n",
       "      <td>999622</td>\n",
       "      <td>1</td>\n",
       "      <td>m1_499927</td>\n",
       "      <td>99994</td>\n",
       "      <td>sell</td>\n",
       "      <td>100000</td>\n",
       "      <td>m1</td>\n",
       "      <td>6</td>\n",
       "    </tr>\n",
       "    <tr>\n",
       "      <th>94852</th>\n",
       "      <td>j0</td>\n",
       "      <td>j0_60713</td>\n",
       "      <td>99995</td>\n",
       "      <td>t71_2857</td>\n",
       "      <td>999624</td>\n",
       "      <td>1</td>\n",
       "      <td>j0_60713</td>\n",
       "      <td>99995</td>\n",
       "      <td>buy</td>\n",
       "      <td>99995</td>\n",
       "      <td>j0</td>\n",
       "      <td>0</td>\n",
       "    </tr>\n",
       "    <tr>\n",
       "      <th>94853</th>\n",
       "      <td>j0</td>\n",
       "      <td>j0_60715</td>\n",
       "      <td>99999</td>\n",
       "      <td>t60_160</td>\n",
       "      <td>999623</td>\n",
       "      <td>1</td>\n",
       "      <td>j0_60715</td>\n",
       "      <td>99999</td>\n",
       "      <td>sell</td>\n",
       "      <td>100000</td>\n",
       "      <td>j0</td>\n",
       "      <td>1</td>\n",
       "    </tr>\n",
       "  </tbody>\n",
       "</table>\n",
       "<p>94854 rows × 12 columns</p>\n",
       "</div>"
      ],
      "text/plain": [
       "      trader_id_x   order_id  add_time incoming_order_id   price  quantity  \\\n",
       "0              p6       p6_1         8             t10_1  999535         1   \n",
       "1              j0       j0_1        10             t73_1  999534         1   \n",
       "2              j0       j0_2        10             t30_1  999532         1   \n",
       "3              j0       j0_3        14             t30_2  999532         1   \n",
       "...           ...        ...       ...               ...     ...       ...   \n",
       "94850          j0   j0_60712     99994         t73_11110  999623         1   \n",
       "94851          m1  m1_499927     99994          t41_2500  999622         1   \n",
       "94852          j0   j0_60713     99995          t71_2857  999624         1   \n",
       "94853          j0   j0_60715     99999           t60_160  999623         1   \n",
       "\n",
       "      resting_order_id  resting_timestamp  side  timestamp trader_id_y  \\\n",
       "0                 p6_1                  8   buy         18          p6   \n",
       "1                 j0_1                 10   buy         18          j0   \n",
       "2                 j0_2                 10  sell         14          j0   \n",
       "3                 j0_3                 14  sell         21          j0   \n",
       "...                ...                ...   ...        ...         ...   \n",
       "94850         j0_60712              99994  sell      99999          j0   \n",
       "94851        m1_499927              99994  sell     100000          m1   \n",
       "94852         j0_60713              99995   buy      99995          j0   \n",
       "94853         j0_60715              99999  sell     100000          j0   \n",
       "\n",
       "       trade_duration  \n",
       "0                  10  \n",
       "1                   8  \n",
       "2                   4  \n",
       "3                   7  \n",
       "...               ...  \n",
       "94850               5  \n",
       "94851               6  \n",
       "94852               0  \n",
       "94853               1  \n",
       "\n",
       "[94854 rows x 12 columns]"
      ]
     },
     "execution_count": 18,
     "metadata": {},
     "output_type": "execute_result"
    }
   ],
   "source": [
    "add_trade = pd.merge(add, indf2, left_on='order_id', right_on='resting_order_id')\n",
    "add_trade = add_trade.assign(trade_duration = add_trade['timestamp']-add_trade['add_time'])\n",
    "add_trade"
   ]
  },
  {
   "cell_type": "code",
   "execution_count": 19,
   "metadata": {
    "collapsed": false
   },
   "outputs": [
    {
     "data": {
      "image/png": "[encoded data removed]",
      "text/plain": [
       "<matplotlib.figure.Figure at 0x2304b8f2908>"
      ]
     },
     "metadata": {},
     "output_type": "display_data"
    }
   ],
   "source": [
    "fig = plt.figure(figsize=(13,9), dpi=300, facecolor='w')\n",
    "ax1 = fig.add_subplot(111)\n",
    "ax1.hist(add_trade.trade_duration, bins=5000, normed=True, label='Trade Duration')\n",
    "ax1.set_xlim(0, 100)\n",
    "ax1.set_xlabel('Trade Duration (Steps)', family='Cambria')\n",
    "ax1.set_ylabel('Density', family='Cambria')\n",
    "ax1.legend(loc='upper left')\n",
    "fig.savefig('%stradedur.png' % chartdir)\n",
    "plt.show()"
   ]
  },
  {
   "cell_type": "code",
   "execution_count": 20,
   "metadata": {
    "collapsed": false
   },
   "outputs": [
    {
     "data": {
      "text/plain": [
       "(count    94854.000000\n",
       " mean        12.682681\n",
       " std         20.226157\n",
       " min          0.000000\n",
       " 25%          1.000000\n",
       " 50%          4.000000\n",
       " 75%         15.000000\n",
       " max        264.000000\n",
       " Name: trade_duration, dtype: float64, count    1197177.000000\n",
       " mean          31.668149\n",
       " std           32.322816\n",
       " min            0.000000\n",
       " 25%            9.000000\n",
       " 50%           22.000000\n",
       " 75%           44.000000\n",
       " max          437.000000\n",
       " Name: cancel_duration, dtype: float64)"
      ]
     },
     "execution_count": 20,
     "metadata": {},
     "output_type": "execute_result"
    }
   ],
   "source": [
    "add_trade.trade_duration.describe(), add_cancel.cancel_duration.describe()"
   ]
  },
  {
   "cell_type": "code",
   "execution_count": null,
   "metadata": {
    "collapsed": true
   },
   "outputs": [],
   "source": []
  }
 ],
 "metadata": {
  "kernelspec": {
   "display_name": "Python 3",
   "language": "python",
   "name": "python3"
  },
  "language_info": {
   "codemirror_mode": {
    "name": "ipython",
    "version": 3
   },
   "file_extension": ".py",
   "mimetype": "text/x-python",
   "name": "python",
   "nbconvert_exporter": "python",
   "pygments_lexer": "ipython3",
   "version": "3.5.2"
  }
 },
 "nbformat": 4,
 "nbformat_minor": 0
}

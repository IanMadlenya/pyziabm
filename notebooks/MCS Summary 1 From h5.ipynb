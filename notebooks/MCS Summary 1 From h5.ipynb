{
 "cells": [
  {
   "cell_type": "code",
   "execution_count": 1,
   "metadata": {
    "collapsed": true
   },
   "outputs": [],
   "source": [
    "import pandas as pd\n",
    "import numpy as np"
   ]
  },
  {
   "cell_type": "code",
   "execution_count": 2,
   "metadata": {
    "collapsed": true
   },
   "outputs": [],
   "source": [
    "%load_ext watermark"
   ]
  },
  {
   "cell_type": "code",
   "execution_count": 3,
   "metadata": {},
   "outputs": [
    {
     "name": "stdout",
     "output_type": "stream",
     "text": [
      "CPython 3.6.0\n",
      "IPython 5.1.0\n",
      "\n",
      "pandas 0.19.2\n",
      "numpy 1.11.3\n",
      "matplotlib 2.0.0\n",
      "\n",
      "compiler   : MSC v.1900 64 bit (AMD64)\n",
      "system     : Windows\n",
      "release    : 10\n",
      "machine    : AMD64\n",
      "processor  : Intel64 Family 6 Model 42 Stepping 7, GenuineIntel\n",
      "CPU cores  : 8\n",
      "interpreter: 64bit\n",
      "host name  : user-PC\n"
     ]
    }
   ],
   "source": [
    "%watermark -h -v -m -p pandas,numpy,matplotlib"
   ]
  },
  {
   "cell_type": "code",
   "execution_count": 4,
   "metadata": {
    "collapsed": true
   },
   "outputs": [],
   "source": [
    "pd.options.display.max_rows = 11"
   ]
  },
  {
   "cell_type": "code",
   "execution_count": 5,
   "metadata": {
    "collapsed": true
   },
   "outputs": [],
   "source": [
    "trial_no = 1"
   ]
  },
  {
   "cell_type": "code",
   "execution_count": 6,
   "metadata": {},
   "outputs": [
    {
     "data": {
      "text/plain": [
       "'..\\\\h5 files\\\\Trial 1\\\\ABMSmallCapSum.h5'"
      ]
     },
     "execution_count": 6,
     "metadata": {},
     "output_type": "execute_result"
    }
   ],
   "source": [
    "h5root = '..\\\\h5 files\\\\'\n",
    "h5subdir = 'Trial %d\\\\' % trial_no\n",
    "h5file = 'ABMSmallCapSum.h5'\n",
    "h5_file = '%s%s%s' % (h5root, h5subdir, h5file)\n",
    "h5_file"
   ]
  },
  {
   "cell_type": "markdown",
   "metadata": {},
   "source": [
    "### Participation"
   ]
  },
  {
   "cell_type": "code",
   "execution_count": 7,
   "metadata": {},
   "outputs": [
    {
     "data": {
      "text/html": [
       "<div>\n",
       "<table border=\"1\" class=\"dataframe\">\n",
       "  <thead>\n",
       "    <tr style=\"text-align: right;\">\n",
       "      <th></th>\n",
       "      <th>Max</th>\n",
       "      <th>Min</th>\n",
       "      <th>Sum</th>\n",
       "    </tr>\n",
       "    <tr>\n",
       "      <th>MCRun</th>\n",
       "      <th></th>\n",
       "      <th></th>\n",
       "      <th></th>\n",
       "    </tr>\n",
       "  </thead>\n",
       "  <tbody>\n",
       "    <tr>\n",
       "      <th>1</th>\n",
       "      <td>84.396618</td>\n",
       "      <td>84.396618</td>\n",
       "      <td>84.396618</td>\n",
       "    </tr>\n",
       "    <tr>\n",
       "      <th>2</th>\n",
       "      <td>88.388634</td>\n",
       "      <td>88.388634</td>\n",
       "      <td>88.388634</td>\n",
       "    </tr>\n",
       "    <tr>\n",
       "      <th>3</th>\n",
       "      <td>89.162194</td>\n",
       "      <td>89.162194</td>\n",
       "      <td>89.162194</td>\n",
       "    </tr>\n",
       "    <tr>\n",
       "      <th>4</th>\n",
       "      <td>83.843868</td>\n",
       "      <td>83.843868</td>\n",
       "      <td>83.843868</td>\n",
       "    </tr>\n",
       "    <tr>\n",
       "      <th>5</th>\n",
       "      <td>88.709329</td>\n",
       "      <td>88.709329</td>\n",
       "      <td>88.709329</td>\n",
       "    </tr>\n",
       "    <tr>\n",
       "      <th>...</th>\n",
       "      <td>...</td>\n",
       "      <td>...</td>\n",
       "      <td>...</td>\n",
       "    </tr>\n",
       "    <tr>\n",
       "      <th>96</th>\n",
       "      <td>86.687711</td>\n",
       "      <td>86.687711</td>\n",
       "      <td>86.687711</td>\n",
       "    </tr>\n",
       "    <tr>\n",
       "      <th>97</th>\n",
       "      <td>91.582372</td>\n",
       "      <td>91.582372</td>\n",
       "      <td>91.582372</td>\n",
       "    </tr>\n",
       "    <tr>\n",
       "      <th>98</th>\n",
       "      <td>87.465545</td>\n",
       "      <td>87.465545</td>\n",
       "      <td>87.465545</td>\n",
       "    </tr>\n",
       "    <tr>\n",
       "      <th>99</th>\n",
       "      <td>88.067756</td>\n",
       "      <td>88.067756</td>\n",
       "      <td>88.067756</td>\n",
       "    </tr>\n",
       "    <tr>\n",
       "      <th>100</th>\n",
       "      <td>87.061319</td>\n",
       "      <td>87.061319</td>\n",
       "      <td>87.061319</td>\n",
       "    </tr>\n",
       "  </tbody>\n",
       "</table>\n",
       "<p>100 rows × 3 columns</p>\n",
       "</div>"
      ],
      "text/plain": [
       "             Max        Min        Sum\n",
       "MCRun                                 \n",
       "1      84.396618  84.396618  84.396618\n",
       "2      88.388634  88.388634  88.388634\n",
       "3      89.162194  89.162194  89.162194\n",
       "4      83.843868  83.843868  83.843868\n",
       "5      88.709329  88.709329  88.709329\n",
       "...          ...        ...        ...\n",
       "96     86.687711  86.687711  86.687711\n",
       "97     91.582372  91.582372  91.582372\n",
       "98     87.465545  87.465545  87.465545\n",
       "99     88.067756  88.067756  88.067756\n",
       "100    87.061319  87.061319  87.061319\n",
       "\n",
       "[100 rows x 3 columns]"
      ]
     },
     "execution_count": 7,
     "metadata": {},
     "output_type": "execute_result"
    }
   ],
   "source": [
    "participation_df = pd.read_hdf(h5_file, 'participation')\n",
    "participation_df"
   ]
  },
  {
   "cell_type": "markdown",
   "metadata": {},
   "source": [
    "### Position"
   ]
  },
  {
   "cell_type": "code",
   "execution_count": 8,
   "metadata": {},
   "outputs": [
    {
     "data": {
      "text/plain": [
       "(MCRun\n",
       " 1     -131\n",
       " 2     -102\n",
       " 3      -27\n",
       " 4      -14\n",
       " 5      -85\n",
       "       ... \n",
       " 96      -6\n",
       " 97    -261\n",
       " 98    -133\n",
       " 99    -201\n",
       " 100    -56\n",
       " Name: Min, dtype: int64, MCRun\n",
       " 1       20\n",
       " 2      156\n",
       " 3       87\n",
       " 4      229\n",
       " 5       83\n",
       "       ... \n",
       " 96     103\n",
       " 97      69\n",
       " 98       1\n",
       " 99      40\n",
       " 100    153\n",
       " Name: Max, dtype: int64)"
      ]
     },
     "execution_count": 8,
     "metadata": {},
     "output_type": "execute_result"
    }
   ],
   "source": [
    "position_df = pd.read_hdf(h5_file, 'position')\n",
    "position_df.groupby('MCRun').Min.min(), position_df.groupby('MCRun').Max.max()"
   ]
  },
  {
   "cell_type": "markdown",
   "metadata": {},
   "source": [
    "### Matched trade profitability"
   ]
  },
  {
   "cell_type": "code",
   "execution_count": 9,
   "metadata": {},
   "outputs": [
    {
     "data": {
      "text/html": [
       "<div>\n",
       "<table border=\"1\" class=\"dataframe\">\n",
       "  <thead>\n",
       "    <tr style=\"text-align: right;\">\n",
       "      <th></th>\n",
       "      <th>Max</th>\n",
       "      <th>Min</th>\n",
       "    </tr>\n",
       "  </thead>\n",
       "  <tbody>\n",
       "    <tr>\n",
       "      <th>count</th>\n",
       "      <td>100.000000</td>\n",
       "      <td>100.000000</td>\n",
       "    </tr>\n",
       "    <tr>\n",
       "      <th>mean</th>\n",
       "      <td>121.415720</td>\n",
       "      <td>-0.423240</td>\n",
       "    </tr>\n",
       "    <tr>\n",
       "      <th>std</th>\n",
       "      <td>318.515621</td>\n",
       "      <td>3.840331</td>\n",
       "    </tr>\n",
       "    <tr>\n",
       "      <th>min</th>\n",
       "      <td>12.261000</td>\n",
       "      <td>-38.287000</td>\n",
       "    </tr>\n",
       "    <tr>\n",
       "      <th>25%</th>\n",
       "      <td>27.157250</td>\n",
       "      <td>0.003000</td>\n",
       "    </tr>\n",
       "    <tr>\n",
       "      <th>50%</th>\n",
       "      <td>45.622000</td>\n",
       "      <td>0.004000</td>\n",
       "    </tr>\n",
       "    <tr>\n",
       "      <th>75%</th>\n",
       "      <td>84.414750</td>\n",
       "      <td>0.007000</td>\n",
       "    </tr>\n",
       "    <tr>\n",
       "      <th>max</th>\n",
       "      <td>2910.167000</td>\n",
       "      <td>0.059000</td>\n",
       "    </tr>\n",
       "  </tbody>\n",
       "</table>\n",
       "</div>"
      ],
      "text/plain": [
       "               Max         Min\n",
       "count   100.000000  100.000000\n",
       "mean    121.415720   -0.423240\n",
       "std     318.515621    3.840331\n",
       "min      12.261000  -38.287000\n",
       "25%      27.157250    0.003000\n",
       "50%      45.622000    0.004000\n",
       "75%      84.414750    0.007000\n",
       "max    2910.167000    0.059000"
      ]
     },
     "execution_count": 9,
     "metadata": {},
     "output_type": "execute_result"
    }
   ],
   "source": [
    "profit_df = pd.read_hdf(h5_file, 'profit')\n",
    "#profit_df.set_index(['MCRun', 'MarketMaker'], inplace=True)\n",
    "profit_df[['Max', 'Min']].describe()"
   ]
  },
  {
   "cell_type": "markdown",
   "metadata": {},
   "source": [
    "### Spreads"
   ]
  },
  {
   "cell_type": "code",
   "execution_count": 10,
   "metadata": {},
   "outputs": [
    {
     "data": {
      "text/html": [
       "<div>\n",
       "<table border=\"1\" class=\"dataframe\">\n",
       "  <thead>\n",
       "    <tr style=\"text-align: right;\">\n",
       "      <th></th>\n",
       "      <th>Max</th>\n",
       "      <th>Mean</th>\n",
       "      <th>Median</th>\n",
       "      <th>Min</th>\n",
       "    </tr>\n",
       "    <tr>\n",
       "      <th>MCRun</th>\n",
       "      <th></th>\n",
       "      <th></th>\n",
       "      <th></th>\n",
       "      <th></th>\n",
       "    </tr>\n",
       "  </thead>\n",
       "  <tbody>\n",
       "    <tr>\n",
       "      <th>1</th>\n",
       "      <td>40</td>\n",
       "      <td>10.098288</td>\n",
       "      <td>9.0</td>\n",
       "      <td>1</td>\n",
       "    </tr>\n",
       "    <tr>\n",
       "      <th>2</th>\n",
       "      <td>42</td>\n",
       "      <td>9.436364</td>\n",
       "      <td>9.0</td>\n",
       "      <td>1</td>\n",
       "    </tr>\n",
       "    <tr>\n",
       "      <th>3</th>\n",
       "      <td>25</td>\n",
       "      <td>6.779422</td>\n",
       "      <td>6.0</td>\n",
       "      <td>1</td>\n",
       "    </tr>\n",
       "    <tr>\n",
       "      <th>4</th>\n",
       "      <td>94</td>\n",
       "      <td>21.218220</td>\n",
       "      <td>19.0</td>\n",
       "      <td>1</td>\n",
       "    </tr>\n",
       "    <tr>\n",
       "      <th>5</th>\n",
       "      <td>31</td>\n",
       "      <td>7.976078</td>\n",
       "      <td>7.0</td>\n",
       "      <td>1</td>\n",
       "    </tr>\n",
       "    <tr>\n",
       "      <th>...</th>\n",
       "      <td>...</td>\n",
       "      <td>...</td>\n",
       "      <td>...</td>\n",
       "      <td>...</td>\n",
       "    </tr>\n",
       "    <tr>\n",
       "      <th>96</th>\n",
       "      <td>18</td>\n",
       "      <td>5.202129</td>\n",
       "      <td>5.0</td>\n",
       "      <td>1</td>\n",
       "    </tr>\n",
       "    <tr>\n",
       "      <th>97</th>\n",
       "      <td>81</td>\n",
       "      <td>21.257476</td>\n",
       "      <td>19.0</td>\n",
       "      <td>1</td>\n",
       "    </tr>\n",
       "    <tr>\n",
       "      <th>98</th>\n",
       "      <td>18</td>\n",
       "      <td>4.918530</td>\n",
       "      <td>4.0</td>\n",
       "      <td>1</td>\n",
       "    </tr>\n",
       "    <tr>\n",
       "      <th>99</th>\n",
       "      <td>26</td>\n",
       "      <td>6.359376</td>\n",
       "      <td>6.0</td>\n",
       "      <td>1</td>\n",
       "    </tr>\n",
       "    <tr>\n",
       "      <th>100</th>\n",
       "      <td>27</td>\n",
       "      <td>6.435013</td>\n",
       "      <td>6.0</td>\n",
       "      <td>1</td>\n",
       "    </tr>\n",
       "  </tbody>\n",
       "</table>\n",
       "<p>100 rows × 4 columns</p>\n",
       "</div>"
      ],
      "text/plain": [
       "       Max       Mean  Median  Min\n",
       "MCRun                             \n",
       "1       40  10.098288     9.0    1\n",
       "2       42   9.436364     9.0    1\n",
       "3       25   6.779422     6.0    1\n",
       "4       94  21.218220    19.0    1\n",
       "5       31   7.976078     7.0    1\n",
       "...    ...        ...     ...  ...\n",
       "96      18   5.202129     5.0    1\n",
       "97      81  21.257476    19.0    1\n",
       "98      18   4.918530     4.0    1\n",
       "99      26   6.359376     6.0    1\n",
       "100     27   6.435013     6.0    1\n",
       "\n",
       "[100 rows x 4 columns]"
      ]
     },
     "execution_count": 10,
     "metadata": {},
     "output_type": "execute_result"
    }
   ],
   "source": [
    "spread_df = pd.read_hdf(h5_file, 'spread')\n",
    "spread_df"
   ]
  },
  {
   "cell_type": "markdown",
   "metadata": {},
   "source": [
    "### Cancel to Trade"
   ]
  },
  {
   "cell_type": "code",
   "execution_count": 11,
   "metadata": {},
   "outputs": [
    {
     "data": {
      "text/plain": [
       "(    MCRun  total_cancel_to_trade_vol  total_trade_to_order_vol\n",
       " 0       1                  79.785421                  1.237362\n",
       " 1       2                  41.062377                  2.376515\n",
       " 2       3                  81.078414                  1.217890\n",
       " 3       4                  22.372195                  4.277032\n",
       " 4       5                  56.086964                  1.751022\n",
       " ..    ...                        ...                       ...\n",
       " 95     96                 125.464352                  0.790424\n",
       " 96     97                  12.789254                  7.249440\n",
       " 97     98                 157.693602                  0.629892\n",
       " 98     99                  78.550892                  1.256590\n",
       " 99    100                  74.171359                  1.329794\n",
       " \n",
       " [100 rows x 3 columns],     CancelToTrade  MCRun MarketMaker  TradeToOrderPct\n",
       " 0       36.928203      1          m0         2.635411\n",
       " 1       20.056035      2          m0         4.747427\n",
       " 2       40.779803      3          m0         2.392615\n",
       " 3        9.177969      4          m0         9.821782\n",
       " 4       29.449522      5          m0         3.282895\n",
       " ..            ...    ...         ...              ...\n",
       " 95      61.752637     96          m0         1.592943\n",
       " 96       6.753331     97          m0        12.893760\n",
       " 97      81.892354     98          m0         1.205909\n",
       " 98      41.534213     99          m0         2.350212\n",
       " 99      35.897896    100          m0         2.709244\n",
       " \n",
       " [100 rows x 4 columns])"
      ]
     },
     "execution_count": 11,
     "metadata": {},
     "output_type": "execute_result"
    }
   ],
   "source": [
    "cancel_trade_df = pd.read_hdf(h5_file, 'cancel_trade')\n",
    "by_mm_df = pd.read_hdf(h5_file, 'by_mm')\n",
    "cancel_trade_df, by_mm_df"
   ]
  },
  {
   "cell_type": "markdown",
   "metadata": {},
   "source": [
    "### To csv"
   ]
  },
  {
   "cell_type": "code",
   "execution_count": 12,
   "metadata": {
    "collapsed": true
   },
   "outputs": [],
   "source": [
    "participation_df.to_csv('..\\\\Small Caps\\\\Output\\\\participation_%d.csv' % trial_no)\n",
    "position_df.to_csv('..\\\\Small Caps\\\\Output\\\\position_%d.csv' % trial_no, index=False)\n",
    "profit_df.to_csv('..\\\\Small Caps\\\\Output\\\\profit_%d.csv' % trial_no, index=False)\n",
    "spread_df.to_csv('..\\\\Small Caps\\\\Output\\\\spread_%d.csv' % trial_no, index=False)\n",
    "cancel_trade_df.to_csv('..\\\\Small Caps\\\\Output\\\\orders_%d.csv' % trial_no, index=False)\n",
    "by_mm_df.to_csv('..\\\\Small Caps\\\\Output\\\\ordersbymm_%d.csv' % trial_no, index=False)"
   ]
  },
  {
   "cell_type": "code",
   "execution_count": null,
   "metadata": {
    "collapsed": true
   },
   "outputs": [],
   "source": []
  }
 ],
 "metadata": {
  "kernelspec": {
   "display_name": "Python 3",
   "language": "python",
   "name": "python3"
  },
  "language_info": {
   "codemirror_mode": {
    "name": "ipython",
    "version": 3
   },
   "file_extension": ".py",
   "mimetype": "text/x-python",
   "name": "python",
   "nbconvert_exporter": "python",
   "pygments_lexer": "ipython3",
   "version": "3.6.0"
  }
 },
 "nbformat": 4,
 "nbformat_minor": 1
}
